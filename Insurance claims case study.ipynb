{
 "cells": [
  {
   "cell_type": "markdown",
   "id": "e8e82d87",
   "metadata": {},
   "source": [
    "## IMPORT NECESSARY LIBRARIES"
   ]
  },
  {
   "cell_type": "code",
   "execution_count": 75,
   "id": "b14243ac",
   "metadata": {},
   "outputs": [],
   "source": [
    "import pandas as pd\n",
    "import numpy as np\n",
    "import matplotlib.pyplot as plt\n",
    "import seaborn as sns"
   ]
  },
  {
   "cell_type": "markdown",
   "id": "19c4ceab",
   "metadata": {},
   "source": [
    "## IMPORT DATA"
   ]
  },
  {
   "cell_type": "code",
   "execution_count": 2,
   "id": "597d9a6d",
   "metadata": {},
   "outputs": [],
   "source": [
    "claims_data = pd.read_csv('claims.csv')\n",
    "cust_data = pd.read_csv('cust_demographics.csv')"
   ]
  },
  {
   "cell_type": "code",
   "execution_count": 3,
   "id": "595fc5c7",
   "metadata": {},
   "outputs": [
    {
     "data": {
      "text/html": [
       "<div>\n",
       "<style scoped>\n",
       "    .dataframe tbody tr th:only-of-type {\n",
       "        vertical-align: middle;\n",
       "    }\n",
       "\n",
       "    .dataframe tbody tr th {\n",
       "        vertical-align: top;\n",
       "    }\n",
       "\n",
       "    .dataframe thead th {\n",
       "        text-align: right;\n",
       "    }\n",
       "</style>\n",
       "<table border=\"1\" class=\"dataframe\">\n",
       "  <thead>\n",
       "    <tr style=\"text-align: right;\">\n",
       "      <th></th>\n",
       "      <th>claim_id</th>\n",
       "      <th>customer_id</th>\n",
       "      <th>incident_cause</th>\n",
       "      <th>claim_date</th>\n",
       "      <th>claim_area</th>\n",
       "      <th>police_report</th>\n",
       "      <th>claim_type</th>\n",
       "      <th>claim_amount</th>\n",
       "      <th>total_policy_claims</th>\n",
       "      <th>fraudulent</th>\n",
       "    </tr>\n",
       "  </thead>\n",
       "  <tbody>\n",
       "    <tr>\n",
       "      <th>0</th>\n",
       "      <td>54004764</td>\n",
       "      <td>21868593</td>\n",
       "      <td>Driver error</td>\n",
       "      <td>11/27/2017</td>\n",
       "      <td>Auto</td>\n",
       "      <td>No</td>\n",
       "      <td>Material only</td>\n",
       "      <td>$2980</td>\n",
       "      <td>1.0</td>\n",
       "      <td>No</td>\n",
       "    </tr>\n",
       "    <tr>\n",
       "      <th>1</th>\n",
       "      <td>33985796</td>\n",
       "      <td>75740424</td>\n",
       "      <td>Crime</td>\n",
       "      <td>10/03/2018</td>\n",
       "      <td>Home</td>\n",
       "      <td>Unknown</td>\n",
       "      <td>Material only</td>\n",
       "      <td>$2980</td>\n",
       "      <td>3.0</td>\n",
       "      <td>No</td>\n",
       "    </tr>\n",
       "  </tbody>\n",
       "</table>\n",
       "</div>"
      ],
      "text/plain": [
       "   claim_id  customer_id incident_cause  claim_date claim_area police_report  \\\n",
       "0  54004764     21868593   Driver error  11/27/2017       Auto            No   \n",
       "1  33985796     75740424          Crime  10/03/2018       Home       Unknown   \n",
       "\n",
       "      claim_type claim_amount  total_policy_claims fraudulent  \n",
       "0  Material only        $2980                  1.0         No  \n",
       "1  Material only        $2980                  3.0         No  "
      ]
     },
     "execution_count": 3,
     "metadata": {},
     "output_type": "execute_result"
    }
   ],
   "source": [
    "claims_data.head(2)"
   ]
  },
  {
   "cell_type": "code",
   "execution_count": 4,
   "id": "f52e5a17",
   "metadata": {},
   "outputs": [
    {
     "data": {
      "text/plain": [
       "(1100, 10)"
      ]
     },
     "execution_count": 4,
     "metadata": {},
     "output_type": "execute_result"
    }
   ],
   "source": [
    "claims_data.shape"
   ]
  },
  {
   "cell_type": "code",
   "execution_count": 5,
   "id": "236c0974",
   "metadata": {},
   "outputs": [
    {
     "data": {
      "text/html": [
       "<div>\n",
       "<style scoped>\n",
       "    .dataframe tbody tr th:only-of-type {\n",
       "        vertical-align: middle;\n",
       "    }\n",
       "\n",
       "    .dataframe tbody tr th {\n",
       "        vertical-align: top;\n",
       "    }\n",
       "\n",
       "    .dataframe thead th {\n",
       "        text-align: right;\n",
       "    }\n",
       "</style>\n",
       "<table border=\"1\" class=\"dataframe\">\n",
       "  <thead>\n",
       "    <tr style=\"text-align: right;\">\n",
       "      <th></th>\n",
       "      <th>customer_id</th>\n",
       "      <th>gender</th>\n",
       "      <th>date_of_birth</th>\n",
       "      <th>state</th>\n",
       "      <th>contact</th>\n",
       "      <th>segment</th>\n",
       "    </tr>\n",
       "  </thead>\n",
       "  <tbody>\n",
       "    <tr>\n",
       "      <th>0</th>\n",
       "      <td>21868593</td>\n",
       "      <td>Female</td>\n",
       "      <td>12-Jan-79</td>\n",
       "      <td>VT</td>\n",
       "      <td>789-916-8172</td>\n",
       "      <td>Platinum</td>\n",
       "    </tr>\n",
       "    <tr>\n",
       "      <th>1</th>\n",
       "      <td>75740424</td>\n",
       "      <td>Female</td>\n",
       "      <td>13-Jan-70</td>\n",
       "      <td>ME</td>\n",
       "      <td>265-543-1264</td>\n",
       "      <td>Silver</td>\n",
       "    </tr>\n",
       "  </tbody>\n",
       "</table>\n",
       "</div>"
      ],
      "text/plain": [
       "   customer_id  gender date_of_birth state       contact   segment\n",
       "0     21868593  Female     12-Jan-79    VT  789-916-8172  Platinum\n",
       "1     75740424  Female     13-Jan-70    ME  265-543-1264    Silver"
      ]
     },
     "execution_count": 5,
     "metadata": {},
     "output_type": "execute_result"
    }
   ],
   "source": [
    "cust_data.head(2)"
   ]
  },
  {
   "cell_type": "code",
   "execution_count": 6,
   "id": "db23e5df",
   "metadata": {},
   "outputs": [
    {
     "data": {
      "text/plain": [
       "(1085, 6)"
      ]
     },
     "execution_count": 6,
     "metadata": {},
     "output_type": "execute_result"
    }
   ],
   "source": [
    "cust_data.shape"
   ]
  },
  {
   "cell_type": "markdown",
   "id": "0a5875b8",
   "metadata": {},
   "source": [
    "### Merge 2 datsets to get a 360 view"
   ]
  },
  {
   "cell_type": "code",
   "execution_count": 7,
   "id": "4c19acad",
   "metadata": {},
   "outputs": [
    {
     "data": {
      "text/html": [
       "<div>\n",
       "<style scoped>\n",
       "    .dataframe tbody tr th:only-of-type {\n",
       "        vertical-align: middle;\n",
       "    }\n",
       "\n",
       "    .dataframe tbody tr th {\n",
       "        vertical-align: top;\n",
       "    }\n",
       "\n",
       "    .dataframe thead th {\n",
       "        text-align: right;\n",
       "    }\n",
       "</style>\n",
       "<table border=\"1\" class=\"dataframe\">\n",
       "  <thead>\n",
       "    <tr style=\"text-align: right;\">\n",
       "      <th></th>\n",
       "      <th>customer_id</th>\n",
       "      <th>gender</th>\n",
       "      <th>date_of_birth</th>\n",
       "      <th>state</th>\n",
       "      <th>contact</th>\n",
       "      <th>segment</th>\n",
       "      <th>claim_id</th>\n",
       "      <th>incident_cause</th>\n",
       "      <th>claim_date</th>\n",
       "      <th>claim_area</th>\n",
       "      <th>police_report</th>\n",
       "      <th>claim_type</th>\n",
       "      <th>claim_amount</th>\n",
       "      <th>total_policy_claims</th>\n",
       "      <th>fraudulent</th>\n",
       "    </tr>\n",
       "  </thead>\n",
       "  <tbody>\n",
       "    <tr>\n",
       "      <th>0</th>\n",
       "      <td>21868593</td>\n",
       "      <td>Female</td>\n",
       "      <td>12-Jan-79</td>\n",
       "      <td>VT</td>\n",
       "      <td>789-916-8172</td>\n",
       "      <td>Platinum</td>\n",
       "      <td>54004764.0</td>\n",
       "      <td>Driver error</td>\n",
       "      <td>11/27/2017</td>\n",
       "      <td>Auto</td>\n",
       "      <td>No</td>\n",
       "      <td>Material only</td>\n",
       "      <td>$2980</td>\n",
       "      <td>1.0</td>\n",
       "      <td>No</td>\n",
       "    </tr>\n",
       "    <tr>\n",
       "      <th>1</th>\n",
       "      <td>75740424</td>\n",
       "      <td>Female</td>\n",
       "      <td>13-Jan-70</td>\n",
       "      <td>ME</td>\n",
       "      <td>265-543-1264</td>\n",
       "      <td>Silver</td>\n",
       "      <td>33985796.0</td>\n",
       "      <td>Crime</td>\n",
       "      <td>10/03/2018</td>\n",
       "      <td>Home</td>\n",
       "      <td>Unknown</td>\n",
       "      <td>Material only</td>\n",
       "      <td>$2980</td>\n",
       "      <td>3.0</td>\n",
       "      <td>No</td>\n",
       "    </tr>\n",
       "    <tr>\n",
       "      <th>2</th>\n",
       "      <td>30308357</td>\n",
       "      <td>Female</td>\n",
       "      <td>11-Mar-84</td>\n",
       "      <td>TN</td>\n",
       "      <td>798-631-4758</td>\n",
       "      <td>Silver</td>\n",
       "      <td>53522022.0</td>\n",
       "      <td>Other driver error</td>\n",
       "      <td>02/02/2018</td>\n",
       "      <td>Auto</td>\n",
       "      <td>No</td>\n",
       "      <td>Material only</td>\n",
       "      <td>$3369.5</td>\n",
       "      <td>1.0</td>\n",
       "      <td>Yes</td>\n",
       "    </tr>\n",
       "    <tr>\n",
       "      <th>3</th>\n",
       "      <td>30308357</td>\n",
       "      <td>Female</td>\n",
       "      <td>11-Mar-84</td>\n",
       "      <td>TN</td>\n",
       "      <td>798-631-4758</td>\n",
       "      <td>Silver</td>\n",
       "      <td>63017412.0</td>\n",
       "      <td>Driver error</td>\n",
       "      <td>04/04/2018</td>\n",
       "      <td>Auto</td>\n",
       "      <td>No</td>\n",
       "      <td>Material only</td>\n",
       "      <td>$1950</td>\n",
       "      <td>6.0</td>\n",
       "      <td>No</td>\n",
       "    </tr>\n",
       "    <tr>\n",
       "      <th>4</th>\n",
       "      <td>47830476</td>\n",
       "      <td>Female</td>\n",
       "      <td>01-May-86</td>\n",
       "      <td>MA</td>\n",
       "      <td>413-187-7945</td>\n",
       "      <td>Silver</td>\n",
       "      <td>13015401.0</td>\n",
       "      <td>Natural causes</td>\n",
       "      <td>06/17/2018</td>\n",
       "      <td>Auto</td>\n",
       "      <td>No</td>\n",
       "      <td>Material only</td>\n",
       "      <td>$1680</td>\n",
       "      <td>1.0</td>\n",
       "      <td>No</td>\n",
       "    </tr>\n",
       "  </tbody>\n",
       "</table>\n",
       "</div>"
      ],
      "text/plain": [
       "   customer_id  gender date_of_birth state       contact   segment  \\\n",
       "0     21868593  Female     12-Jan-79    VT  789-916-8172  Platinum   \n",
       "1     75740424  Female     13-Jan-70    ME  265-543-1264    Silver   \n",
       "2     30308357  Female     11-Mar-84    TN  798-631-4758    Silver   \n",
       "3     30308357  Female     11-Mar-84    TN  798-631-4758    Silver   \n",
       "4     47830476  Female     01-May-86    MA  413-187-7945    Silver   \n",
       "\n",
       "     claim_id      incident_cause  claim_date claim_area police_report  \\\n",
       "0  54004764.0        Driver error  11/27/2017       Auto            No   \n",
       "1  33985796.0               Crime  10/03/2018       Home       Unknown   \n",
       "2  53522022.0  Other driver error  02/02/2018       Auto            No   \n",
       "3  63017412.0        Driver error  04/04/2018       Auto            No   \n",
       "4  13015401.0      Natural causes  06/17/2018       Auto            No   \n",
       "\n",
       "      claim_type claim_amount  total_policy_claims fraudulent  \n",
       "0  Material only        $2980                  1.0         No  \n",
       "1  Material only        $2980                  3.0         No  \n",
       "2  Material only      $3369.5                  1.0        Yes  \n",
       "3  Material only        $1950                  6.0         No  \n",
       "4  Material only        $1680                  1.0         No  "
      ]
     },
     "execution_count": 7,
     "metadata": {},
     "output_type": "execute_result"
    }
   ],
   "source": [
    "df = pd.merge(left = cust_data,right = claims_data, on = ['customer_id'],how = \"outer\")\n",
    "df.head()"
   ]
  },
  {
   "cell_type": "code",
   "execution_count": 8,
   "id": "30a69699",
   "metadata": {},
   "outputs": [
    {
     "data": {
      "text/plain": [
       "(1107, 15)"
      ]
     },
     "execution_count": 8,
     "metadata": {},
     "output_type": "execute_result"
    }
   ],
   "source": [
    "df.shape"
   ]
  },
  {
   "cell_type": "markdown",
   "id": "7a708b91",
   "metadata": {},
   "source": [
    "### Data audit "
   ]
  },
  {
   "cell_type": "code",
   "execution_count": 9,
   "id": "be31176a",
   "metadata": {},
   "outputs": [],
   "source": [
    "# lets change the date of birth and claim date data datype to date time format"
   ]
  },
  {
   "cell_type": "code",
   "execution_count": 10,
   "id": "16652a83",
   "metadata": {},
   "outputs": [
    {
     "data": {
      "text/html": [
       "<div>\n",
       "<style scoped>\n",
       "    .dataframe tbody tr th:only-of-type {\n",
       "        vertical-align: middle;\n",
       "    }\n",
       "\n",
       "    .dataframe tbody tr th {\n",
       "        vertical-align: top;\n",
       "    }\n",
       "\n",
       "    .dataframe thead th {\n",
       "        text-align: right;\n",
       "    }\n",
       "</style>\n",
       "<table border=\"1\" class=\"dataframe\">\n",
       "  <thead>\n",
       "    <tr style=\"text-align: right;\">\n",
       "      <th></th>\n",
       "      <th>customer_id</th>\n",
       "      <th>gender</th>\n",
       "      <th>date_of_birth</th>\n",
       "      <th>state</th>\n",
       "      <th>contact</th>\n",
       "      <th>segment</th>\n",
       "      <th>claim_id</th>\n",
       "      <th>incident_cause</th>\n",
       "      <th>claim_date</th>\n",
       "      <th>claim_area</th>\n",
       "      <th>police_report</th>\n",
       "      <th>claim_type</th>\n",
       "      <th>claim_amount</th>\n",
       "      <th>total_policy_claims</th>\n",
       "      <th>fraudulent</th>\n",
       "    </tr>\n",
       "  </thead>\n",
       "  <tbody>\n",
       "    <tr>\n",
       "      <th>0</th>\n",
       "      <td>21868593</td>\n",
       "      <td>Female</td>\n",
       "      <td>1979-01-12</td>\n",
       "      <td>VT</td>\n",
       "      <td>789-916-8172</td>\n",
       "      <td>Platinum</td>\n",
       "      <td>54004764.0</td>\n",
       "      <td>Driver error</td>\n",
       "      <td>2017-11-27</td>\n",
       "      <td>Auto</td>\n",
       "      <td>No</td>\n",
       "      <td>Material only</td>\n",
       "      <td>$2980</td>\n",
       "      <td>1.0</td>\n",
       "      <td>No</td>\n",
       "    </tr>\n",
       "    <tr>\n",
       "      <th>1</th>\n",
       "      <td>75740424</td>\n",
       "      <td>Female</td>\n",
       "      <td>1970-01-13</td>\n",
       "      <td>ME</td>\n",
       "      <td>265-543-1264</td>\n",
       "      <td>Silver</td>\n",
       "      <td>33985796.0</td>\n",
       "      <td>Crime</td>\n",
       "      <td>2018-10-03</td>\n",
       "      <td>Home</td>\n",
       "      <td>Unknown</td>\n",
       "      <td>Material only</td>\n",
       "      <td>$2980</td>\n",
       "      <td>3.0</td>\n",
       "      <td>No</td>\n",
       "    </tr>\n",
       "  </tbody>\n",
       "</table>\n",
       "</div>"
      ],
      "text/plain": [
       "   customer_id  gender date_of_birth state       contact   segment  \\\n",
       "0     21868593  Female    1979-01-12    VT  789-916-8172  Platinum   \n",
       "1     75740424  Female    1970-01-13    ME  265-543-1264    Silver   \n",
       "\n",
       "     claim_id incident_cause claim_date claim_area police_report  \\\n",
       "0  54004764.0   Driver error 2017-11-27       Auto            No   \n",
       "1  33985796.0          Crime 2018-10-03       Home       Unknown   \n",
       "\n",
       "      claim_type claim_amount  total_policy_claims fraudulent  \n",
       "0  Material only        $2980                  1.0         No  \n",
       "1  Material only        $2980                  3.0         No  "
      ]
     },
     "execution_count": 10,
     "metadata": {},
     "output_type": "execute_result"
    }
   ],
   "source": [
    "df[\"date_of_birth\"] = pd.to_datetime(df.date_of_birth, format = \"%d-%b-%y\")\n",
    "df[\"claim_date\"] = pd.to_datetime(df.claim_date, format = \"%m/%d/%Y\")\n",
    "df.head(2)"
   ]
  },
  {
   "cell_type": "code",
   "execution_count": 11,
   "id": "bb87ed55",
   "metadata": {},
   "outputs": [
    {
     "name": "stdout",
     "output_type": "stream",
     "text": [
      "datetime64[ns]\n",
      "datetime64[ns]\n"
     ]
    }
   ],
   "source": [
    "print(df['date_of_birth'].dtype)\n",
    "print(df['claim_date'].dtype)"
   ]
  },
  {
   "cell_type": "code",
   "execution_count": 12,
   "id": "332c85b8",
   "metadata": {},
   "outputs": [],
   "source": [
    "# change column claim amount data type to numeric and removing the dollar sign."
   ]
  },
  {
   "cell_type": "code",
   "execution_count": 13,
   "id": "f10329ff",
   "metadata": {},
   "outputs": [
    {
     "name": "stderr",
     "output_type": "stream",
     "text": [
      "C:\\Users\\sushmi\\AppData\\Local\\Temp\\ipykernel_1344\\3163226399.py:1: FutureWarning: The default value of regex will change from True to False in a future version. In addition, single character regular expressions will *not* be treated as literal strings when regex=True.\n",
      "  df['claim_amount'] = df['claim_amount'].str.replace('$', '')\n"
     ]
    }
   ],
   "source": [
    "df['claim_amount'] = df['claim_amount'].str.replace('$', '')\n",
    "df['claim_amount'] = pd.to_numeric(df['claim_amount'])"
   ]
  },
  {
   "cell_type": "code",
   "execution_count": 14,
   "id": "20b421bb",
   "metadata": {},
   "outputs": [
    {
     "data": {
      "text/plain": [
       "dtype('float64')"
      ]
     },
     "execution_count": 14,
     "metadata": {},
     "output_type": "execute_result"
    }
   ],
   "source": [
    "df['claim_amount'].dtype"
   ]
  },
  {
   "cell_type": "code",
   "execution_count": 15,
   "id": "001b52eb",
   "metadata": {},
   "outputs": [
    {
     "name": "stdout",
     "output_type": "stream",
     "text": [
      "<class 'pandas.core.frame.DataFrame'>\n",
      "Int64Index: 1107 entries, 0 to 1106\n",
      "Data columns (total 15 columns):\n",
      " #   Column               Non-Null Count  Dtype         \n",
      "---  ------               --------------  -----         \n",
      " 0   customer_id          1107 non-null   int64         \n",
      " 1   gender               1092 non-null   object        \n",
      " 2   date_of_birth        1092 non-null   datetime64[ns]\n",
      " 3   state                1092 non-null   object        \n",
      " 4   contact              1092 non-null   object        \n",
      " 5   segment              1092 non-null   object        \n",
      " 6   claim_id             1100 non-null   float64       \n",
      " 7   incident_cause       1100 non-null   object        \n",
      " 8   claim_date           1100 non-null   datetime64[ns]\n",
      " 9   claim_area           1100 non-null   object        \n",
      " 10  police_report        1100 non-null   object        \n",
      " 11  claim_type           1100 non-null   object        \n",
      " 12  claim_amount         1035 non-null   float64       \n",
      " 13  total_policy_claims  1090 non-null   float64       \n",
      " 14  fraudulent           1100 non-null   object        \n",
      "dtypes: datetime64[ns](2), float64(3), int64(1), object(9)\n",
      "memory usage: 138.4+ KB\n"
     ]
    }
   ],
   "source": [
    "df.info()"
   ]
  },
  {
   "cell_type": "markdown",
   "id": "2ee51eee",
   "metadata": {},
   "source": [
    "#####  Every columns data types matches the data. no more issues with data types."
   ]
  },
  {
   "cell_type": "code",
   "execution_count": 48,
   "id": "667b5457",
   "metadata": {},
   "outputs": [],
   "source": [
    "# create an alert flag for the police report column."
   ]
  },
  {
   "cell_type": "code",
   "execution_count": 16,
   "id": "f4e4e2e9",
   "metadata": {},
   "outputs": [
    {
     "data": {
      "text/html": [
       "<div>\n",
       "<style scoped>\n",
       "    .dataframe tbody tr th:only-of-type {\n",
       "        vertical-align: middle;\n",
       "    }\n",
       "\n",
       "    .dataframe tbody tr th {\n",
       "        vertical-align: top;\n",
       "    }\n",
       "\n",
       "    .dataframe thead th {\n",
       "        text-align: right;\n",
       "    }\n",
       "</style>\n",
       "<table border=\"1\" class=\"dataframe\">\n",
       "  <thead>\n",
       "    <tr style=\"text-align: right;\">\n",
       "      <th></th>\n",
       "      <th>customer_id</th>\n",
       "      <th>gender</th>\n",
       "      <th>date_of_birth</th>\n",
       "      <th>state</th>\n",
       "      <th>contact</th>\n",
       "      <th>segment</th>\n",
       "      <th>claim_id</th>\n",
       "      <th>incident_cause</th>\n",
       "      <th>claim_date</th>\n",
       "      <th>claim_area</th>\n",
       "      <th>police_report</th>\n",
       "      <th>claim_type</th>\n",
       "      <th>claim_amount</th>\n",
       "      <th>total_policy_claims</th>\n",
       "      <th>fraudulent</th>\n",
       "      <th>alert_flag</th>\n",
       "    </tr>\n",
       "  </thead>\n",
       "  <tbody>\n",
       "    <tr>\n",
       "      <th>1102</th>\n",
       "      <td>35951012</td>\n",
       "      <td>NaN</td>\n",
       "      <td>NaT</td>\n",
       "      <td>NaN</td>\n",
       "      <td>NaN</td>\n",
       "      <td>NaN</td>\n",
       "      <td>97727122.0</td>\n",
       "      <td>Other driver error</td>\n",
       "      <td>2017-06-11</td>\n",
       "      <td>Auto</td>\n",
       "      <td>No</td>\n",
       "      <td>Material only</td>\n",
       "      <td>3059.0</td>\n",
       "      <td>4.0</td>\n",
       "      <td>Yes</td>\n",
       "      <td>0.0</td>\n",
       "    </tr>\n",
       "    <tr>\n",
       "      <th>1103</th>\n",
       "      <td>14818669</td>\n",
       "      <td>NaN</td>\n",
       "      <td>NaT</td>\n",
       "      <td>NaN</td>\n",
       "      <td>NaN</td>\n",
       "      <td>NaN</td>\n",
       "      <td>10247193.0</td>\n",
       "      <td>Natural causes</td>\n",
       "      <td>2018-03-14</td>\n",
       "      <td>Auto</td>\n",
       "      <td>No</td>\n",
       "      <td>Material only</td>\n",
       "      <td>1520.0</td>\n",
       "      <td>2.0</td>\n",
       "      <td>No</td>\n",
       "      <td>0.0</td>\n",
       "    </tr>\n",
       "    <tr>\n",
       "      <th>1104</th>\n",
       "      <td>85322831</td>\n",
       "      <td>NaN</td>\n",
       "      <td>NaT</td>\n",
       "      <td>NaN</td>\n",
       "      <td>NaN</td>\n",
       "      <td>NaN</td>\n",
       "      <td>79807493.0</td>\n",
       "      <td>Other driver error</td>\n",
       "      <td>2018-02-09</td>\n",
       "      <td>Auto</td>\n",
       "      <td>No</td>\n",
       "      <td>Material and injury</td>\n",
       "      <td>23575.0</td>\n",
       "      <td>2.0</td>\n",
       "      <td>Yes</td>\n",
       "      <td>0.0</td>\n",
       "    </tr>\n",
       "    <tr>\n",
       "      <th>1105</th>\n",
       "      <td>73449366</td>\n",
       "      <td>NaN</td>\n",
       "      <td>NaT</td>\n",
       "      <td>NaN</td>\n",
       "      <td>NaN</td>\n",
       "      <td>NaN</td>\n",
       "      <td>69299345.0</td>\n",
       "      <td>Other causes</td>\n",
       "      <td>2018-03-21</td>\n",
       "      <td>Auto</td>\n",
       "      <td>Unknown</td>\n",
       "      <td>Material and injury</td>\n",
       "      <td>25120.0</td>\n",
       "      <td>1.0</td>\n",
       "      <td>No</td>\n",
       "      <td>NaN</td>\n",
       "    </tr>\n",
       "    <tr>\n",
       "      <th>1106</th>\n",
       "      <td>43020876</td>\n",
       "      <td>NaN</td>\n",
       "      <td>NaT</td>\n",
       "      <td>NaN</td>\n",
       "      <td>NaN</td>\n",
       "      <td>NaN</td>\n",
       "      <td>58809728.0</td>\n",
       "      <td>Other driver error</td>\n",
       "      <td>2017-06-04</td>\n",
       "      <td>Auto</td>\n",
       "      <td>Yes</td>\n",
       "      <td>Material and injury</td>\n",
       "      <td>36685.0</td>\n",
       "      <td>3.0</td>\n",
       "      <td>Yes</td>\n",
       "      <td>1.0</td>\n",
       "    </tr>\n",
       "  </tbody>\n",
       "</table>\n",
       "</div>"
      ],
      "text/plain": [
       "      customer_id gender date_of_birth state contact segment    claim_id  \\\n",
       "1102     35951012    NaN           NaT   NaN     NaN     NaN  97727122.0   \n",
       "1103     14818669    NaN           NaT   NaN     NaN     NaN  10247193.0   \n",
       "1104     85322831    NaN           NaT   NaN     NaN     NaN  79807493.0   \n",
       "1105     73449366    NaN           NaT   NaN     NaN     NaN  69299345.0   \n",
       "1106     43020876    NaN           NaT   NaN     NaN     NaN  58809728.0   \n",
       "\n",
       "          incident_cause claim_date claim_area police_report  \\\n",
       "1102  Other driver error 2017-06-11       Auto            No   \n",
       "1103      Natural causes 2018-03-14       Auto            No   \n",
       "1104  Other driver error 2018-02-09       Auto            No   \n",
       "1105        Other causes 2018-03-21       Auto       Unknown   \n",
       "1106  Other driver error 2017-06-04       Auto           Yes   \n",
       "\n",
       "               claim_type  claim_amount  total_policy_claims fraudulent  \\\n",
       "1102        Material only        3059.0                  4.0        Yes   \n",
       "1103        Material only        1520.0                  2.0         No   \n",
       "1104  Material and injury       23575.0                  2.0        Yes   \n",
       "1105  Material and injury       25120.0                  1.0         No   \n",
       "1106  Material and injury       36685.0                  3.0        Yes   \n",
       "\n",
       "      alert_flag  \n",
       "1102         0.0  \n",
       "1103         0.0  \n",
       "1104         0.0  \n",
       "1105         NaN  \n",
       "1106         1.0  "
      ]
     },
     "execution_count": 16,
     "metadata": {},
     "output_type": "execute_result"
    }
   ],
   "source": [
    "df[\"alert_flag\"] = np.where(df.police_report=='Yes',1,np.where(df.police_report == 'No',0, np.nan))\n",
    "df.tail() "
   ]
  },
  {
   "cell_type": "code",
   "execution_count": 17,
   "id": "296d4835",
   "metadata": {},
   "outputs": [
    {
     "name": "stdout",
     "output_type": "stream",
     "text": [
      "<class 'pandas.core.frame.DataFrame'>\n",
      "Int64Index: 1107 entries, 0 to 1106\n",
      "Data columns (total 16 columns):\n",
      " #   Column               Non-Null Count  Dtype         \n",
      "---  ------               --------------  -----         \n",
      " 0   customer_id          1107 non-null   int64         \n",
      " 1   gender               1092 non-null   object        \n",
      " 2   date_of_birth        1092 non-null   datetime64[ns]\n",
      " 3   state                1092 non-null   object        \n",
      " 4   contact              1092 non-null   object        \n",
      " 5   segment              1092 non-null   object        \n",
      " 6   claim_id             1100 non-null   float64       \n",
      " 7   incident_cause       1100 non-null   object        \n",
      " 8   claim_date           1100 non-null   datetime64[ns]\n",
      " 9   claim_area           1100 non-null   object        \n",
      " 10  police_report        1100 non-null   object        \n",
      " 11  claim_type           1100 non-null   object        \n",
      " 12  claim_amount         1035 non-null   float64       \n",
      " 13  total_policy_claims  1090 non-null   float64       \n",
      " 14  fraudulent           1100 non-null   object        \n",
      " 15  alert_flag           800 non-null    float64       \n",
      "dtypes: datetime64[ns](2), float64(4), int64(1), object(9)\n",
      "memory usage: 147.0+ KB\n"
     ]
    }
   ],
   "source": [
    "df.info()"
   ]
  },
  {
   "cell_type": "code",
   "execution_count": 18,
   "id": "74ce3204",
   "metadata": {},
   "outputs": [],
   "source": [
    "# One customer can claim for insurance more than once and in each claim, multiple categories of claims can be involved. However, customer ID  should remain unique.  \n",
    "#Retain the most recent observation and delete any duplicated records in the data based on the customer ID column."
   ]
  },
  {
   "cell_type": "code",
   "execution_count": 19,
   "id": "4261b08a",
   "metadata": {},
   "outputs": [
    {
     "data": {
      "text/html": [
       "<div>\n",
       "<style scoped>\n",
       "    .dataframe tbody tr th:only-of-type {\n",
       "        vertical-align: middle;\n",
       "    }\n",
       "\n",
       "    .dataframe tbody tr th {\n",
       "        vertical-align: top;\n",
       "    }\n",
       "\n",
       "    .dataframe thead th {\n",
       "        text-align: right;\n",
       "    }\n",
       "</style>\n",
       "<table border=\"1\" class=\"dataframe\">\n",
       "  <thead>\n",
       "    <tr style=\"text-align: right;\">\n",
       "      <th></th>\n",
       "      <th>gender</th>\n",
       "      <th>date_of_birth</th>\n",
       "      <th>state</th>\n",
       "      <th>contact</th>\n",
       "      <th>segment</th>\n",
       "      <th>claim_id</th>\n",
       "      <th>incident_cause</th>\n",
       "      <th>claim_date</th>\n",
       "      <th>claim_area</th>\n",
       "      <th>police_report</th>\n",
       "      <th>claim_type</th>\n",
       "      <th>claim_amount</th>\n",
       "      <th>total_policy_claims</th>\n",
       "      <th>fraudulent</th>\n",
       "      <th>alert_flag</th>\n",
       "    </tr>\n",
       "  </thead>\n",
       "  <tbody>\n",
       "    <tr>\n",
       "      <th>0</th>\n",
       "      <td>Female</td>\n",
       "      <td>1978-05-23</td>\n",
       "      <td>DE</td>\n",
       "      <td>962-879-1238</td>\n",
       "      <td>Platinum</td>\n",
       "      <td>69348631.0</td>\n",
       "      <td>Driver error</td>\n",
       "      <td>2018-04-10</td>\n",
       "      <td>Auto</td>\n",
       "      <td>No</td>\n",
       "      <td>Injury only</td>\n",
       "      <td>NaN</td>\n",
       "      <td>1.0</td>\n",
       "      <td>Yes</td>\n",
       "      <td>0.0</td>\n",
       "    </tr>\n",
       "    <tr>\n",
       "      <th>1</th>\n",
       "      <td>Male</td>\n",
       "      <td>1972-12-20</td>\n",
       "      <td>TX</td>\n",
       "      <td>173-892-6314</td>\n",
       "      <td>Silver</td>\n",
       "      <td>40953049.0</td>\n",
       "      <td>Other causes</td>\n",
       "      <td>2018-04-04</td>\n",
       "      <td>Auto</td>\n",
       "      <td>No</td>\n",
       "      <td>Material and injury</td>\n",
       "      <td>39192.0</td>\n",
       "      <td>1.0</td>\n",
       "      <td>Yes</td>\n",
       "      <td>0.0</td>\n",
       "    </tr>\n",
       "    <tr>\n",
       "      <th>2</th>\n",
       "      <td>Male</td>\n",
       "      <td>1988-07-28</td>\n",
       "      <td>FL</td>\n",
       "      <td>364-598-1549</td>\n",
       "      <td>Silver</td>\n",
       "      <td>45780237.0</td>\n",
       "      <td>Natural causes</td>\n",
       "      <td>2017-10-17</td>\n",
       "      <td>Auto</td>\n",
       "      <td>Unknown</td>\n",
       "      <td>Material only</td>\n",
       "      <td>1621.5</td>\n",
       "      <td>2.0</td>\n",
       "      <td>Yes</td>\n",
       "      <td>NaN</td>\n",
       "    </tr>\n",
       "  </tbody>\n",
       "</table>\n",
       "</div>"
      ],
      "text/plain": [
       "   gender date_of_birth state       contact   segment    claim_id  \\\n",
       "0  Female    1978-05-23    DE  962-879-1238  Platinum  69348631.0   \n",
       "1    Male    1972-12-20    TX  173-892-6314    Silver  40953049.0   \n",
       "2    Male    1988-07-28    FL  364-598-1549    Silver  45780237.0   \n",
       "\n",
       "   incident_cause claim_date claim_area police_report           claim_type  \\\n",
       "0    Driver error 2018-04-10       Auto            No          Injury only   \n",
       "1    Other causes 2018-04-04       Auto            No  Material and injury   \n",
       "2  Natural causes 2017-10-17       Auto       Unknown        Material only   \n",
       "\n",
       "   claim_amount  total_policy_claims fraudulent  alert_flag  \n",
       "0           NaN                  1.0        Yes         0.0  \n",
       "1       39192.0                  1.0        Yes         0.0  \n",
       "2        1621.5                  2.0        Yes         NaN  "
      ]
     },
     "execution_count": 19,
     "metadata": {},
     "output_type": "execute_result"
    }
   ],
   "source": [
    "df= df.groupby('customer_id').first().reset_index(drop = True)\n",
    "df.head(3)"
   ]
  },
  {
   "cell_type": "code",
   "execution_count": 20,
   "id": "d5d9e621",
   "metadata": {},
   "outputs": [
    {
     "data": {
      "text/plain": [
       "gender                  15\n",
       "date_of_birth           15\n",
       "state                   15\n",
       "contact                 15\n",
       "segment                 15\n",
       "claim_id                 7\n",
       "incident_cause           7\n",
       "claim_date               7\n",
       "claim_area               7\n",
       "police_report            7\n",
       "claim_type               7\n",
       "claim_amount            72\n",
       "total_policy_claims     17\n",
       "fraudulent               7\n",
       "alert_flag             303\n",
       "dtype: int64"
      ]
     },
     "execution_count": 20,
     "metadata": {},
     "output_type": "execute_result"
    }
   ],
   "source": [
    "df.isnull().sum()"
   ]
  },
  {
   "cell_type": "code",
   "execution_count": 21,
   "id": "a22d1e5f",
   "metadata": {},
   "outputs": [
    {
     "name": "stdout",
     "output_type": "stream",
     "text": [
      "<class 'pandas.core.frame.DataFrame'>\n",
      "RangeIndex: 1100 entries, 0 to 1099\n",
      "Data columns (total 15 columns):\n",
      " #   Column               Non-Null Count  Dtype         \n",
      "---  ------               --------------  -----         \n",
      " 0   gender               1085 non-null   object        \n",
      " 1   date_of_birth        1085 non-null   datetime64[ns]\n",
      " 2   state                1085 non-null   object        \n",
      " 3   contact              1085 non-null   object        \n",
      " 4   segment              1085 non-null   object        \n",
      " 5   claim_id             1093 non-null   float64       \n",
      " 6   incident_cause       1093 non-null   object        \n",
      " 7   claim_date           1093 non-null   datetime64[ns]\n",
      " 8   claim_area           1093 non-null   object        \n",
      " 9   police_report        1093 non-null   object        \n",
      " 10  claim_type           1093 non-null   object        \n",
      " 11  claim_amount         1028 non-null   float64       \n",
      " 12  total_policy_claims  1083 non-null   float64       \n",
      " 13  fraudulent           1093 non-null   object        \n",
      " 14  alert_flag           797 non-null    float64       \n",
      "dtypes: datetime64[ns](2), float64(4), object(9)\n",
      "memory usage: 129.0+ KB\n"
     ]
    }
   ],
   "source": [
    "df.info()"
   ]
  },
  {
   "cell_type": "code",
   "execution_count": 22,
   "id": "c89c5d0c",
   "metadata": {},
   "outputs": [],
   "source": [
    "#imputing missing rows categorical col  = mode numerical col with mean "
   ]
  },
  {
   "cell_type": "code",
   "execution_count": 23,
   "id": "746cc2bf",
   "metadata": {},
   "outputs": [
    {
     "data": {
      "text/html": [
       "<div>\n",
       "<style scoped>\n",
       "    .dataframe tbody tr th:only-of-type {\n",
       "        vertical-align: middle;\n",
       "    }\n",
       "\n",
       "    .dataframe tbody tr th {\n",
       "        vertical-align: top;\n",
       "    }\n",
       "\n",
       "    .dataframe thead th {\n",
       "        text-align: right;\n",
       "    }\n",
       "</style>\n",
       "<table border=\"1\" class=\"dataframe\">\n",
       "  <thead>\n",
       "    <tr style=\"text-align: right;\">\n",
       "      <th></th>\n",
       "      <th>gender</th>\n",
       "      <th>date_of_birth</th>\n",
       "      <th>state</th>\n",
       "      <th>contact</th>\n",
       "      <th>segment</th>\n",
       "      <th>claim_id</th>\n",
       "      <th>incident_cause</th>\n",
       "      <th>claim_date</th>\n",
       "      <th>claim_area</th>\n",
       "      <th>police_report</th>\n",
       "      <th>claim_type</th>\n",
       "      <th>claim_amount</th>\n",
       "      <th>total_policy_claims</th>\n",
       "      <th>fraudulent</th>\n",
       "      <th>alert_flag</th>\n",
       "    </tr>\n",
       "  </thead>\n",
       "  <tbody>\n",
       "    <tr>\n",
       "      <th>0</th>\n",
       "      <td>Female</td>\n",
       "      <td>1978-05-23</td>\n",
       "      <td>DE</td>\n",
       "      <td>962-879-1238</td>\n",
       "      <td>Platinum</td>\n",
       "      <td>69348631.0</td>\n",
       "      <td>Driver error</td>\n",
       "      <td>2018-04-10</td>\n",
       "      <td>Auto</td>\n",
       "      <td>No</td>\n",
       "      <td>Injury only</td>\n",
       "      <td>12444.72714</td>\n",
       "      <td>1.0</td>\n",
       "      <td>Yes</td>\n",
       "      <td>0.0</td>\n",
       "    </tr>\n",
       "    <tr>\n",
       "      <th>1</th>\n",
       "      <td>Male</td>\n",
       "      <td>1972-12-20</td>\n",
       "      <td>TX</td>\n",
       "      <td>173-892-6314</td>\n",
       "      <td>Silver</td>\n",
       "      <td>40953049.0</td>\n",
       "      <td>Other causes</td>\n",
       "      <td>2018-04-04</td>\n",
       "      <td>Auto</td>\n",
       "      <td>No</td>\n",
       "      <td>Material and injury</td>\n",
       "      <td>39192.00000</td>\n",
       "      <td>1.0</td>\n",
       "      <td>Yes</td>\n",
       "      <td>0.0</td>\n",
       "    </tr>\n",
       "    <tr>\n",
       "      <th>2</th>\n",
       "      <td>Male</td>\n",
       "      <td>1988-07-28</td>\n",
       "      <td>FL</td>\n",
       "      <td>364-598-1549</td>\n",
       "      <td>Silver</td>\n",
       "      <td>45780237.0</td>\n",
       "      <td>Natural causes</td>\n",
       "      <td>2017-10-17</td>\n",
       "      <td>Auto</td>\n",
       "      <td>Unknown</td>\n",
       "      <td>Material only</td>\n",
       "      <td>1621.50000</td>\n",
       "      <td>2.0</td>\n",
       "      <td>Yes</td>\n",
       "      <td>NaN</td>\n",
       "    </tr>\n",
       "    <tr>\n",
       "      <th>3</th>\n",
       "      <td>Male</td>\n",
       "      <td>1971-08-19</td>\n",
       "      <td>CA</td>\n",
       "      <td>187-348-8375</td>\n",
       "      <td>Gold</td>\n",
       "      <td>89833962.0</td>\n",
       "      <td>Other causes</td>\n",
       "      <td>2018-03-21</td>\n",
       "      <td>Auto</td>\n",
       "      <td>Yes</td>\n",
       "      <td>Material and injury</td>\n",
       "      <td>37040.00000</td>\n",
       "      <td>1.0</td>\n",
       "      <td>No</td>\n",
       "      <td>1.0</td>\n",
       "    </tr>\n",
       "    <tr>\n",
       "      <th>4</th>\n",
       "      <td>Female</td>\n",
       "      <td>1980-08-10</td>\n",
       "      <td>NC</td>\n",
       "      <td>798-862-5398</td>\n",
       "      <td>Gold</td>\n",
       "      <td>35782742.0</td>\n",
       "      <td>Other driver error</td>\n",
       "      <td>2018-07-27</td>\n",
       "      <td>Auto</td>\n",
       "      <td>No</td>\n",
       "      <td>Injury only</td>\n",
       "      <td>35250.00000</td>\n",
       "      <td>3.0</td>\n",
       "      <td>No</td>\n",
       "      <td>0.0</td>\n",
       "    </tr>\n",
       "  </tbody>\n",
       "</table>\n",
       "</div>"
      ],
      "text/plain": [
       "   gender date_of_birth state       contact   segment    claim_id  \\\n",
       "0  Female    1978-05-23    DE  962-879-1238  Platinum  69348631.0   \n",
       "1    Male    1972-12-20    TX  173-892-6314    Silver  40953049.0   \n",
       "2    Male    1988-07-28    FL  364-598-1549    Silver  45780237.0   \n",
       "3    Male    1971-08-19    CA  187-348-8375      Gold  89833962.0   \n",
       "4  Female    1980-08-10    NC  798-862-5398      Gold  35782742.0   \n",
       "\n",
       "       incident_cause claim_date claim_area police_report  \\\n",
       "0        Driver error 2018-04-10       Auto            No   \n",
       "1        Other causes 2018-04-04       Auto            No   \n",
       "2      Natural causes 2017-10-17       Auto       Unknown   \n",
       "3        Other causes 2018-03-21       Auto           Yes   \n",
       "4  Other driver error 2018-07-27       Auto            No   \n",
       "\n",
       "            claim_type  claim_amount  total_policy_claims fraudulent  \\\n",
       "0          Injury only   12444.72714                  1.0        Yes   \n",
       "1  Material and injury   39192.00000                  1.0        Yes   \n",
       "2        Material only    1621.50000                  2.0        Yes   \n",
       "3  Material and injury   37040.00000                  1.0         No   \n",
       "4          Injury only   35250.00000                  3.0         No   \n",
       "\n",
       "   alert_flag  \n",
       "0         0.0  \n",
       "1         0.0  \n",
       "2         NaN  \n",
       "3         1.0  \n",
       "4         0.0  "
      ]
     },
     "execution_count": 23,
     "metadata": {},
     "output_type": "execute_result"
    }
   ],
   "source": [
    "cat_col = ['gender','state','segment','incident_cause','claim_area','police_report','claim_type','fraudulent', 'total_policy_claims']\n",
    "con_col = ['claim_amount']\n",
    "for col in cat_col:\n",
    "    df[col] = df[col].fillna(df[col].mode()[0])\n",
    "    \n",
    "df[con_col] = df[con_col].fillna(df[con_col].mean())\n",
    "df.head()"
   ]
  },
  {
   "cell_type": "code",
   "execution_count": 24,
   "id": "91b1e9df",
   "metadata": {},
   "outputs": [
    {
     "data": {
      "text/plain": [
       "gender                   0\n",
       "date_of_birth           15\n",
       "state                    0\n",
       "contact                 15\n",
       "segment                  0\n",
       "claim_id                 7\n",
       "incident_cause           0\n",
       "claim_date               7\n",
       "claim_area               0\n",
       "police_report            0\n",
       "claim_type               0\n",
       "claim_amount             0\n",
       "total_policy_claims      0\n",
       "fraudulent               0\n",
       "alert_flag             303\n",
       "dtype: int64"
      ]
     },
     "execution_count": 24,
     "metadata": {},
     "output_type": "execute_result"
    }
   ],
   "source": [
    "df.isnull().sum()"
   ]
  },
  {
   "cell_type": "code",
   "execution_count": 25,
   "id": "1abb6926",
   "metadata": {},
   "outputs": [
    {
     "data": {
      "text/html": [
       "<div>\n",
       "<style scoped>\n",
       "    .dataframe tbody tr th:only-of-type {\n",
       "        vertical-align: middle;\n",
       "    }\n",
       "\n",
       "    .dataframe tbody tr th {\n",
       "        vertical-align: top;\n",
       "    }\n",
       "\n",
       "    .dataframe thead th {\n",
       "        text-align: right;\n",
       "    }\n",
       "</style>\n",
       "<table border=\"1\" class=\"dataframe\">\n",
       "  <thead>\n",
       "    <tr style=\"text-align: right;\">\n",
       "      <th></th>\n",
       "      <th>claim_date</th>\n",
       "      <th>claim_id</th>\n",
       "    </tr>\n",
       "  </thead>\n",
       "  <tbody>\n",
       "    <tr>\n",
       "      <th>0</th>\n",
       "      <td>1.0</td>\n",
       "      <td>105</td>\n",
       "    </tr>\n",
       "    <tr>\n",
       "      <th>1</th>\n",
       "      <td>2.0</td>\n",
       "      <td>91</td>\n",
       "    </tr>\n",
       "    <tr>\n",
       "      <th>2</th>\n",
       "      <td>3.0</td>\n",
       "      <td>114</td>\n",
       "    </tr>\n",
       "    <tr>\n",
       "      <th>3</th>\n",
       "      <td>4.0</td>\n",
       "      <td>102</td>\n",
       "    </tr>\n",
       "    <tr>\n",
       "      <th>4</th>\n",
       "      <td>5.0</td>\n",
       "      <td>94</td>\n",
       "    </tr>\n",
       "    <tr>\n",
       "      <th>5</th>\n",
       "      <td>6.0</td>\n",
       "      <td>95</td>\n",
       "    </tr>\n",
       "    <tr>\n",
       "      <th>6</th>\n",
       "      <td>7.0</td>\n",
       "      <td>108</td>\n",
       "    </tr>\n",
       "    <tr>\n",
       "      <th>7</th>\n",
       "      <td>8.0</td>\n",
       "      <td>90</td>\n",
       "    </tr>\n",
       "    <tr>\n",
       "      <th>8</th>\n",
       "      <td>9.0</td>\n",
       "      <td>77</td>\n",
       "    </tr>\n",
       "    <tr>\n",
       "      <th>9</th>\n",
       "      <td>10.0</td>\n",
       "      <td>123</td>\n",
       "    </tr>\n",
       "    <tr>\n",
       "      <th>10</th>\n",
       "      <td>11.0</td>\n",
       "      <td>45</td>\n",
       "    </tr>\n",
       "    <tr>\n",
       "      <th>11</th>\n",
       "      <td>12.0</td>\n",
       "      <td>49</td>\n",
       "    </tr>\n",
       "  </tbody>\n",
       "</table>\n",
       "</div>"
      ],
      "text/plain": [
       "    claim_date  claim_id\n",
       "0          1.0       105\n",
       "1          2.0        91\n",
       "2          3.0       114\n",
       "3          4.0       102\n",
       "4          5.0        94\n",
       "5          6.0        95\n",
       "6          7.0       108\n",
       "7          8.0        90\n",
       "8          9.0        77\n",
       "9         10.0       123\n",
       "10        11.0        45\n",
       "11        12.0        49"
      ]
     },
     "execution_count": 25,
     "metadata": {},
     "output_type": "execute_result"
    }
   ],
   "source": [
    "pd.DataFrame(df.groupby(df['claim_date'].dt.month).claim_id.count().reset_index())"
   ]
  },
  {
   "cell_type": "code",
   "execution_count": 26,
   "id": "3b4e9a47",
   "metadata": {},
   "outputs": [],
   "source": [
    "df.loc[df.claim_date.isnull(),'claim_date'] = pd.Timestamp('2017-10-01')"
   ]
  },
  {
   "cell_type": "code",
   "execution_count": 27,
   "id": "e017fed9",
   "metadata": {},
   "outputs": [
    {
     "data": {
      "text/plain": [
       "gender                   0\n",
       "date_of_birth           15\n",
       "state                    0\n",
       "contact                 15\n",
       "segment                  0\n",
       "claim_id                 7\n",
       "incident_cause           0\n",
       "claim_date               0\n",
       "claim_area               0\n",
       "police_report            0\n",
       "claim_type               0\n",
       "claim_amount             0\n",
       "total_policy_claims      0\n",
       "fraudulent               0\n",
       "alert_flag             303\n",
       "dtype: int64"
      ]
     },
     "execution_count": 27,
     "metadata": {},
     "output_type": "execute_result"
    }
   ],
   "source": [
    "df.isnull().sum()"
   ]
  },
  {
   "cell_type": "code",
   "execution_count": 84,
   "id": "93651911",
   "metadata": {},
   "outputs": [],
   "source": [
    "# alert flag has 303 missing rows because there are many unknowns in  police reports "
   ]
  },
  {
   "cell_type": "code",
   "execution_count": 29,
   "id": "0f8ad8ce",
   "metadata": {},
   "outputs": [],
   "source": [
    "# Calculate the age of customers in years. Based on the age, categorize the customers according to the below criteria Children < 18 Youth 18-30 Adult 30-60 Senior > 60"
   ]
  },
  {
   "cell_type": "code",
   "execution_count": 30,
   "id": "28cd1f41",
   "metadata": {},
   "outputs": [
    {
     "data": {
      "text/html": [
       "<div>\n",
       "<style scoped>\n",
       "    .dataframe tbody tr th:only-of-type {\n",
       "        vertical-align: middle;\n",
       "    }\n",
       "\n",
       "    .dataframe tbody tr th {\n",
       "        vertical-align: top;\n",
       "    }\n",
       "\n",
       "    .dataframe thead th {\n",
       "        text-align: right;\n",
       "    }\n",
       "</style>\n",
       "<table border=\"1\" class=\"dataframe\">\n",
       "  <thead>\n",
       "    <tr style=\"text-align: right;\">\n",
       "      <th></th>\n",
       "      <th>gender</th>\n",
       "      <th>date_of_birth</th>\n",
       "      <th>state</th>\n",
       "      <th>contact</th>\n",
       "      <th>segment</th>\n",
       "      <th>claim_id</th>\n",
       "      <th>incident_cause</th>\n",
       "      <th>claim_date</th>\n",
       "      <th>claim_area</th>\n",
       "      <th>police_report</th>\n",
       "      <th>claim_type</th>\n",
       "      <th>claim_amount</th>\n",
       "      <th>total_policy_claims</th>\n",
       "      <th>fraudulent</th>\n",
       "      <th>alert_flag</th>\n",
       "      <th>Age</th>\n",
       "      <th>Age_Group</th>\n",
       "    </tr>\n",
       "  </thead>\n",
       "  <tbody>\n",
       "    <tr>\n",
       "      <th>0</th>\n",
       "      <td>Female</td>\n",
       "      <td>1978-05-23</td>\n",
       "      <td>DE</td>\n",
       "      <td>962-879-1238</td>\n",
       "      <td>Platinum</td>\n",
       "      <td>69348631.0</td>\n",
       "      <td>Driver error</td>\n",
       "      <td>2018-04-10</td>\n",
       "      <td>Auto</td>\n",
       "      <td>No</td>\n",
       "      <td>Injury only</td>\n",
       "      <td>12444.72714</td>\n",
       "      <td>1.0</td>\n",
       "      <td>Yes</td>\n",
       "      <td>0.0</td>\n",
       "      <td>40.0</td>\n",
       "      <td>Adult</td>\n",
       "    </tr>\n",
       "    <tr>\n",
       "      <th>1</th>\n",
       "      <td>Male</td>\n",
       "      <td>1972-12-20</td>\n",
       "      <td>TX</td>\n",
       "      <td>173-892-6314</td>\n",
       "      <td>Silver</td>\n",
       "      <td>40953049.0</td>\n",
       "      <td>Other causes</td>\n",
       "      <td>2018-04-04</td>\n",
       "      <td>Auto</td>\n",
       "      <td>No</td>\n",
       "      <td>Material and injury</td>\n",
       "      <td>39192.00000</td>\n",
       "      <td>1.0</td>\n",
       "      <td>Yes</td>\n",
       "      <td>0.0</td>\n",
       "      <td>46.0</td>\n",
       "      <td>Adult</td>\n",
       "    </tr>\n",
       "    <tr>\n",
       "      <th>2</th>\n",
       "      <td>Male</td>\n",
       "      <td>1988-07-28</td>\n",
       "      <td>FL</td>\n",
       "      <td>364-598-1549</td>\n",
       "      <td>Silver</td>\n",
       "      <td>45780237.0</td>\n",
       "      <td>Natural causes</td>\n",
       "      <td>2017-10-17</td>\n",
       "      <td>Auto</td>\n",
       "      <td>Unknown</td>\n",
       "      <td>Material only</td>\n",
       "      <td>1621.50000</td>\n",
       "      <td>2.0</td>\n",
       "      <td>Yes</td>\n",
       "      <td>NaN</td>\n",
       "      <td>29.0</td>\n",
       "      <td>Youth</td>\n",
       "    </tr>\n",
       "    <tr>\n",
       "      <th>3</th>\n",
       "      <td>Male</td>\n",
       "      <td>1971-08-19</td>\n",
       "      <td>CA</td>\n",
       "      <td>187-348-8375</td>\n",
       "      <td>Gold</td>\n",
       "      <td>89833962.0</td>\n",
       "      <td>Other causes</td>\n",
       "      <td>2018-03-21</td>\n",
       "      <td>Auto</td>\n",
       "      <td>Yes</td>\n",
       "      <td>Material and injury</td>\n",
       "      <td>37040.00000</td>\n",
       "      <td>1.0</td>\n",
       "      <td>No</td>\n",
       "      <td>1.0</td>\n",
       "      <td>47.0</td>\n",
       "      <td>Adult</td>\n",
       "    </tr>\n",
       "    <tr>\n",
       "      <th>4</th>\n",
       "      <td>Female</td>\n",
       "      <td>1980-08-10</td>\n",
       "      <td>NC</td>\n",
       "      <td>798-862-5398</td>\n",
       "      <td>Gold</td>\n",
       "      <td>35782742.0</td>\n",
       "      <td>Other driver error</td>\n",
       "      <td>2018-07-27</td>\n",
       "      <td>Auto</td>\n",
       "      <td>No</td>\n",
       "      <td>Injury only</td>\n",
       "      <td>35250.00000</td>\n",
       "      <td>3.0</td>\n",
       "      <td>No</td>\n",
       "      <td>0.0</td>\n",
       "      <td>38.0</td>\n",
       "      <td>Adult</td>\n",
       "    </tr>\n",
       "    <tr>\n",
       "      <th>...</th>\n",
       "      <td>...</td>\n",
       "      <td>...</td>\n",
       "      <td>...</td>\n",
       "      <td>...</td>\n",
       "      <td>...</td>\n",
       "      <td>...</td>\n",
       "      <td>...</td>\n",
       "      <td>...</td>\n",
       "      <td>...</td>\n",
       "      <td>...</td>\n",
       "      <td>...</td>\n",
       "      <td>...</td>\n",
       "      <td>...</td>\n",
       "      <td>...</td>\n",
       "      <td>...</td>\n",
       "      <td>...</td>\n",
       "      <td>...</td>\n",
       "    </tr>\n",
       "    <tr>\n",
       "      <th>1095</th>\n",
       "      <td>Male</td>\n",
       "      <td>2065-01-28</td>\n",
       "      <td>UT</td>\n",
       "      <td>517-562-4916</td>\n",
       "      <td>Silver</td>\n",
       "      <td>4549014.0</td>\n",
       "      <td>Other causes</td>\n",
       "      <td>2018-07-07</td>\n",
       "      <td>Auto</td>\n",
       "      <td>No</td>\n",
       "      <td>Injury only</td>\n",
       "      <td>21480.00000</td>\n",
       "      <td>1.0</td>\n",
       "      <td>No</td>\n",
       "      <td>0.0</td>\n",
       "      <td>-47.0</td>\n",
       "      <td>NaN</td>\n",
       "    </tr>\n",
       "    <tr>\n",
       "      <th>1096</th>\n",
       "      <td>Female</td>\n",
       "      <td>2066-06-19</td>\n",
       "      <td>HI</td>\n",
       "      <td>457-752-1374</td>\n",
       "      <td>Gold</td>\n",
       "      <td>35453672.0</td>\n",
       "      <td>Natural causes</td>\n",
       "      <td>2018-01-06</td>\n",
       "      <td>Auto</td>\n",
       "      <td>Yes</td>\n",
       "      <td>Material and injury</td>\n",
       "      <td>14360.00000</td>\n",
       "      <td>1.0</td>\n",
       "      <td>No</td>\n",
       "      <td>1.0</td>\n",
       "      <td>-48.0</td>\n",
       "      <td>NaN</td>\n",
       "    </tr>\n",
       "    <tr>\n",
       "      <th>1097</th>\n",
       "      <td>Female</td>\n",
       "      <td>2063-11-18</td>\n",
       "      <td>NC</td>\n",
       "      <td>643-246-4718</td>\n",
       "      <td>Silver</td>\n",
       "      <td>37305754.0</td>\n",
       "      <td>Natural causes</td>\n",
       "      <td>2018-04-04</td>\n",
       "      <td>Auto</td>\n",
       "      <td>No</td>\n",
       "      <td>Material only</td>\n",
       "      <td>1242.00000</td>\n",
       "      <td>1.0</td>\n",
       "      <td>Yes</td>\n",
       "      <td>0.0</td>\n",
       "      <td>-45.0</td>\n",
       "      <td>NaN</td>\n",
       "    </tr>\n",
       "    <tr>\n",
       "      <th>1098</th>\n",
       "      <td>Male</td>\n",
       "      <td>1995-06-08</td>\n",
       "      <td>OR</td>\n",
       "      <td>395-246-6172</td>\n",
       "      <td>Gold</td>\n",
       "      <td>22960702.0</td>\n",
       "      <td>Driver error</td>\n",
       "      <td>2017-11-13</td>\n",
       "      <td>Auto</td>\n",
       "      <td>No</td>\n",
       "      <td>Material only</td>\n",
       "      <td>2415.00000</td>\n",
       "      <td>2.0</td>\n",
       "      <td>Yes</td>\n",
       "      <td>0.0</td>\n",
       "      <td>22.0</td>\n",
       "      <td>Youth</td>\n",
       "    </tr>\n",
       "    <tr>\n",
       "      <th>1099</th>\n",
       "      <td>Male</td>\n",
       "      <td>1995-06-10</td>\n",
       "      <td>AL</td>\n",
       "      <td>234-943-2876</td>\n",
       "      <td>Platinum</td>\n",
       "      <td>47262068.0</td>\n",
       "      <td>Driver error</td>\n",
       "      <td>2018-10-23</td>\n",
       "      <td>Home</td>\n",
       "      <td>No</td>\n",
       "      <td>Material only</td>\n",
       "      <td>2310.00000</td>\n",
       "      <td>1.0</td>\n",
       "      <td>No</td>\n",
       "      <td>0.0</td>\n",
       "      <td>23.0</td>\n",
       "      <td>Youth</td>\n",
       "    </tr>\n",
       "  </tbody>\n",
       "</table>\n",
       "<p>1100 rows × 17 columns</p>\n",
       "</div>"
      ],
      "text/plain": [
       "      gender date_of_birth state       contact   segment    claim_id  \\\n",
       "0     Female    1978-05-23    DE  962-879-1238  Platinum  69348631.0   \n",
       "1       Male    1972-12-20    TX  173-892-6314    Silver  40953049.0   \n",
       "2       Male    1988-07-28    FL  364-598-1549    Silver  45780237.0   \n",
       "3       Male    1971-08-19    CA  187-348-8375      Gold  89833962.0   \n",
       "4     Female    1980-08-10    NC  798-862-5398      Gold  35782742.0   \n",
       "...      ...           ...   ...           ...       ...         ...   \n",
       "1095    Male    2065-01-28    UT  517-562-4916    Silver   4549014.0   \n",
       "1096  Female    2066-06-19    HI  457-752-1374      Gold  35453672.0   \n",
       "1097  Female    2063-11-18    NC  643-246-4718    Silver  37305754.0   \n",
       "1098    Male    1995-06-08    OR  395-246-6172      Gold  22960702.0   \n",
       "1099    Male    1995-06-10    AL  234-943-2876  Platinum  47262068.0   \n",
       "\n",
       "          incident_cause claim_date claim_area police_report  \\\n",
       "0           Driver error 2018-04-10       Auto            No   \n",
       "1           Other causes 2018-04-04       Auto            No   \n",
       "2         Natural causes 2017-10-17       Auto       Unknown   \n",
       "3           Other causes 2018-03-21       Auto           Yes   \n",
       "4     Other driver error 2018-07-27       Auto            No   \n",
       "...                  ...        ...        ...           ...   \n",
       "1095        Other causes 2018-07-07       Auto            No   \n",
       "1096      Natural causes 2018-01-06       Auto           Yes   \n",
       "1097      Natural causes 2018-04-04       Auto            No   \n",
       "1098        Driver error 2017-11-13       Auto            No   \n",
       "1099        Driver error 2018-10-23       Home            No   \n",
       "\n",
       "               claim_type  claim_amount  total_policy_claims fraudulent  \\\n",
       "0             Injury only   12444.72714                  1.0        Yes   \n",
       "1     Material and injury   39192.00000                  1.0        Yes   \n",
       "2           Material only    1621.50000                  2.0        Yes   \n",
       "3     Material and injury   37040.00000                  1.0         No   \n",
       "4             Injury only   35250.00000                  3.0         No   \n",
       "...                   ...           ...                  ...        ...   \n",
       "1095          Injury only   21480.00000                  1.0         No   \n",
       "1096  Material and injury   14360.00000                  1.0         No   \n",
       "1097        Material only    1242.00000                  1.0        Yes   \n",
       "1098        Material only    2415.00000                  2.0        Yes   \n",
       "1099        Material only    2310.00000                  1.0         No   \n",
       "\n",
       "      alert_flag   Age Age_Group  \n",
       "0            0.0  40.0     Adult  \n",
       "1            0.0  46.0     Adult  \n",
       "2            NaN  29.0     Youth  \n",
       "3            1.0  47.0     Adult  \n",
       "4            0.0  38.0     Adult  \n",
       "...          ...   ...       ...  \n",
       "1095         0.0 -47.0       NaN  \n",
       "1096         1.0 -48.0       NaN  \n",
       "1097         0.0 -45.0       NaN  \n",
       "1098         0.0  22.0     Youth  \n",
       "1099         0.0  23.0     Youth  \n",
       "\n",
       "[1100 rows x 17 columns]"
      ]
     },
     "execution_count": 30,
     "metadata": {},
     "output_type": "execute_result"
    }
   ],
   "source": [
    "df[\"Age\"] = (pd.DatetimeIndex(df.claim_date).year - pd.DatetimeIndex(df.date_of_birth).year)\n",
    "df.loc[(df.Age < 18) & (df.Age >0),'Age_Group'] = 'Children'\n",
    "df.loc[(df.Age >=18) & (df.Age <30),'Age_Group'] = 'Youth'\n",
    "df.loc[(df.Age >=30) & (df.Age <60),'Age_Group'] = 'Adult'\n",
    "df.loc[(df.Age >=60),'Age_Group'] = 'Senior'\n",
    "df"
   ]
  },
  {
   "cell_type": "markdown",
   "id": "5b3793c0",
   "metadata": {},
   "source": [
    "## Data analysis\n",
    "- Here I have answered important questions"
   ]
  },
  {
   "cell_type": "markdown",
   "id": "cff10f14",
   "metadata": {},
   "source": [
    "#### Average amount claimed by the customers from various  segments"
   ]
  },
  {
   "cell_type": "code",
   "execution_count": 31,
   "id": "876ee88e",
   "metadata": {},
   "outputs": [
    {
     "data": {
      "text/plain": [
       "segment\n",
       "Gold        12674.667246\n",
       "Platinum    12368.864254\n",
       "Silver      12268.874044\n",
       "Name: claim_amount, dtype: float64"
      ]
     },
     "execution_count": 31,
     "metadata": {},
     "output_type": "execute_result"
    }
   ],
   "source": [
    "df.groupby('segment')['claim_amount'].mean()"
   ]
  },
  {
   "cell_type": "markdown",
   "id": "123b9e67",
   "metadata": {},
   "source": [
    "#####  INSIGHTS:\n",
    "- average amount claimed is more or less same with each other\n",
    "- Gold segment has seen higher average claims "
   ]
  },
  {
   "cell_type": "markdown",
   "id": "c0a737f1",
   "metadata": {},
   "source": [
    "#####  The total claim amount based on incident cause for all the claims that have been done at least 20 days prior to 1st of October, 2018."
   ]
  },
  {
   "cell_type": "code",
   "execution_count": 32,
   "id": "e7d9f524",
   "metadata": {},
   "outputs": [
    {
     "data": {
      "text/html": [
       "<div>\n",
       "<style scoped>\n",
       "    .dataframe tbody tr th:only-of-type {\n",
       "        vertical-align: middle;\n",
       "    }\n",
       "\n",
       "    .dataframe tbody tr th {\n",
       "        vertical-align: top;\n",
       "    }\n",
       "\n",
       "    .dataframe thead th {\n",
       "        text-align: right;\n",
       "    }\n",
       "</style>\n",
       "<table border=\"1\" class=\"dataframe\">\n",
       "  <thead>\n",
       "    <tr style=\"text-align: right;\">\n",
       "      <th></th>\n",
       "      <th>incident_cause</th>\n",
       "      <th>claim_amount</th>\n",
       "    </tr>\n",
       "  </thead>\n",
       "  <tbody>\n",
       "    <tr>\n",
       "      <th>0</th>\n",
       "      <td>Crime</td>\n",
       "      <td>7222.630056</td>\n",
       "    </tr>\n",
       "    <tr>\n",
       "      <th>1</th>\n",
       "      <td>Driver error</td>\n",
       "      <td>14012.709471</td>\n",
       "    </tr>\n",
       "    <tr>\n",
       "      <th>2</th>\n",
       "      <td>Natural causes</td>\n",
       "      <td>7557.609450</td>\n",
       "    </tr>\n",
       "    <tr>\n",
       "      <th>3</th>\n",
       "      <td>Other causes</td>\n",
       "      <td>14429.223529</td>\n",
       "    </tr>\n",
       "    <tr>\n",
       "      <th>4</th>\n",
       "      <td>Other driver error</td>\n",
       "      <td>14586.547210</td>\n",
       "    </tr>\n",
       "  </tbody>\n",
       "</table>\n",
       "</div>"
      ],
      "text/plain": [
       "       incident_cause  claim_amount\n",
       "0               Crime   7222.630056\n",
       "1        Driver error  14012.709471\n",
       "2      Natural causes   7557.609450\n",
       "3        Other causes  14429.223529\n",
       "4  Other driver error  14586.547210"
      ]
     },
     "execution_count": 32,
     "metadata": {},
     "output_type": "execute_result"
    }
   ],
   "source": [
    "df[df.claim_date < \"2018-09-10\"].groupby('incident_cause')['claim_amount'].mean().reset_index()"
   ]
  },
  {
   "cell_type": "markdown",
   "id": "b329e3e4",
   "metadata": {},
   "source": [
    "#####  Draw a pie chart between the aggregated value of claim amount based  on gender and segment. "
   ]
  },
  {
   "cell_type": "code",
   "execution_count": 82,
   "id": "226875a2",
   "metadata": {},
   "outputs": [
    {
     "data": {
      "image/png": "[encoded data removed]",
      "text/plain": [
       "<Figure size 640x480 with 2 Axes>"
      ]
     },
     "metadata": {},
     "output_type": "display_data"
    }
   ],
   "source": [
    "pie = df.groupby(['segment','gender'])['claim_amount'].sum().reset_index()\n",
    "pie.pivot(index=\"segment\", columns= \"gender\", values= \"claim_amount\").plot(kind = \"pie\", legend= True, subplots = True)\n",
    "plt.show()"
   ]
  },
  {
   "cell_type": "markdown",
   "id": "15ee9486",
   "metadata": {},
   "source": [
    "##### Among males and females, which gender had claimed the most for any  type of driver related issues? E.g. This metric can be compared using a bar chart "
   ]
  },
  {
   "cell_type": "code",
   "execution_count": 35,
   "id": "5377cc4b",
   "metadata": {},
   "outputs": [
    {
     "data": {
      "text/html": [
       "<div>\n",
       "<style scoped>\n",
       "    .dataframe tbody tr th:only-of-type {\n",
       "        vertical-align: middle;\n",
       "    }\n",
       "\n",
       "    .dataframe tbody tr th {\n",
       "        vertical-align: top;\n",
       "    }\n",
       "\n",
       "    .dataframe thead th {\n",
       "        text-align: right;\n",
       "    }\n",
       "</style>\n",
       "<table border=\"1\" class=\"dataframe\">\n",
       "  <thead>\n",
       "    <tr style=\"text-align: right;\">\n",
       "      <th></th>\n",
       "      <th>gender</th>\n",
       "      <th>CountOf_gender</th>\n",
       "    </tr>\n",
       "  </thead>\n",
       "  <tbody>\n",
       "    <tr>\n",
       "      <th>0</th>\n",
       "      <td>Female</td>\n",
       "      <td>221</td>\n",
       "    </tr>\n",
       "    <tr>\n",
       "      <th>1</th>\n",
       "      <td>Male</td>\n",
       "      <td>285</td>\n",
       "    </tr>\n",
       "  </tbody>\n",
       "</table>\n",
       "</div>"
      ],
      "text/plain": [
       "   gender  CountOf_gender\n",
       "0  Female             221\n",
       "1    Male             285"
      ]
     },
     "execution_count": 35,
     "metadata": {},
     "output_type": "execute_result"
    }
   ],
   "source": [
    "p1 =df.loc[(df.incident_cause.str.lower().str.contains(\"driver\")\n",
    "               )].groupby(\"gender\")[[\"gender\"]].count().add_prefix(\"CountOf_\").reset_index()\n",
    "p1"
   ]
  },
  {
   "cell_type": "code",
   "execution_count": 36,
   "id": "3868198e",
   "metadata": {},
   "outputs": [
    {
     "data": {
      "image/png": "[encoded data removed]",
      "text/plain": [
       "<Figure size 640x480 with 1 Axes>"
      ]
     },
     "metadata": {},
     "output_type": "display_data"
    }
   ],
   "source": [
    "sns.barplot(x = \"gender\", y = \"CountOf_gender\", data = p1 )\n",
    "plt.show()"
   ]
  },
  {
   "cell_type": "markdown",
   "id": "fc92d75f",
   "metadata": {},
   "source": [
    "##### The age group which  had the maximum fraudulent policy claims? "
   ]
  },
  {
   "cell_type": "code",
   "execution_count": 37,
   "id": "1d6d59ec",
   "metadata": {},
   "outputs": [
    {
     "data": {
      "text/html": [
       "<div>\n",
       "<style scoped>\n",
       "    .dataframe tbody tr th:only-of-type {\n",
       "        vertical-align: middle;\n",
       "    }\n",
       "\n",
       "    .dataframe tbody tr th {\n",
       "        vertical-align: top;\n",
       "    }\n",
       "\n",
       "    .dataframe thead th {\n",
       "        text-align: right;\n",
       "    }\n",
       "</style>\n",
       "<table border=\"1\" class=\"dataframe\">\n",
       "  <thead>\n",
       "    <tr style=\"text-align: right;\">\n",
       "      <th></th>\n",
       "      <th>Age_Group</th>\n",
       "      <th>fraudulent</th>\n",
       "    </tr>\n",
       "  </thead>\n",
       "  <tbody>\n",
       "    <tr>\n",
       "      <th>0</th>\n",
       "      <td>Adult</td>\n",
       "      <td>515</td>\n",
       "    </tr>\n",
       "    <tr>\n",
       "      <th>1</th>\n",
       "      <td>Youth</td>\n",
       "      <td>324</td>\n",
       "    </tr>\n",
       "  </tbody>\n",
       "</table>\n",
       "</div>"
      ],
      "text/plain": [
       "  Age_Group  fraudulent\n",
       "0     Adult         515\n",
       "1     Youth         324"
      ]
     },
     "execution_count": 37,
     "metadata": {},
     "output_type": "execute_result"
    }
   ],
   "source": [
    "p2 = df.groupby(\"Age_Group\")[[\"fraudulent\"]].count().reset_index()\n",
    "p2"
   ]
  },
  {
   "cell_type": "code",
   "execution_count": 68,
   "id": "227f4220",
   "metadata": {},
   "outputs": [
    {
     "data": {
      "image/png": "[encoded data removed]",
      "text/plain": [
       "<Figure size 640x480 with 1 Axes>"
      ]
     },
     "metadata": {},
     "output_type": "display_data"
    }
   ],
   "source": [
    "sns.barplot(x = 'Age_Group', y = 'fraudulent', data = p2,color = 'violet')\n",
    "plt.legend(['Adult','Childen','Youth'])\n",
    "plt.title('Fraudulent cases by different age groups')\n",
    "plt.show()"
   ]
  },
  {
   "cell_type": "markdown",
   "id": "52660f44",
   "metadata": {},
   "source": [
    "##### Visualize the monthly trend of the total amount that has been claimed  by the customers. Ensure that on the “month” axis, the month is in a chronological order not alphabetical order."
   ]
  },
  {
   "cell_type": "code",
   "execution_count": 57,
   "id": "cb353c2e",
   "metadata": {},
   "outputs": [
    {
     "data": {
      "image/png": "[encoded data removed]",
      "text/plain": [
       "<Figure size 640x480 with 1 Axes>"
      ]
     },
     "metadata": {},
     "output_type": "display_data"
    }
   ],
   "source": [
    "df['Month_num'] = pd.DatetimeIndex(df.claim_date).month\n",
    "trend = df.groupby('Month_num')['claim_amount'].sum().reset_index()\n",
    "pd.pivot_table(trend,index='Month_num',values=\"claim_amount\").plot(kind = \"bar\", color='green')\n",
    "plt.show()"
   ]
  },
  {
   "cell_type": "markdown",
   "id": "fe9ac621",
   "metadata": {},
   "source": [
    "##### What is the average claim amount for gender and age categories \n"
   ]
  },
  {
   "cell_type": "code",
   "execution_count": 56,
   "id": "236014f4",
   "metadata": {},
   "outputs": [
    {
     "data": {
      "image/png": "[encoded data removed]",
      "text/plain": [
       "<Figure size 640x480 with 2 Axes>"
      ]
     },
     "metadata": {},
     "output_type": "display_data"
    }
   ],
   "source": [
    "f = df[(df.fraudulent==\"Yes\")].groupby([\"gender\",\"Age_Group\"])[[\"claim_amount\"]].mean().add_prefix(\"Fraud_\")\n",
    "nf = df[(df.fraudulent==\"No\")].groupby([\"gender\",\"Age_Group\"])[[\"claim_amount\"]].mean().add_prefix(\"Non_Fraud_\")\n",
    "f_nf=round(pd.merge(f,nf,on=[\"gender\",\"Age_Group\"]),2)\n",
    "f_nf.plot(kind=\"bar\", subplots= True, legend= True,color= 'red')\n",
    "plt.show()"
   ]
  },
  {
   "cell_type": "markdown",
   "id": "9d40b402",
   "metadata": {},
   "source": [
    "##### Is there any similarity in the amount claimed by males and females?"
   ]
  },
  {
   "cell_type": "code",
   "execution_count": 41,
   "id": "b8adef1a",
   "metadata": {},
   "outputs": [
    {
     "data": {
      "text/plain": [
       "Ttest_indResult(statistic=-0.8224293015574573, pvalue=0.41101135636800423)"
      ]
     },
     "execution_count": 41,
     "metadata": {},
     "output_type": "execute_result"
    }
   ],
   "source": [
    "import scipy.stats as st\n",
    "female = df['claim_amount'].loc[df['gender']==\"Female\"]\n",
    "male = df['claim_amount'].loc[df['gender']==\"Male\"]\n",
    "st.ttest_ind(female, male, equal_var=False)"
   ]
  },
  {
   "cell_type": "markdown",
   "id": "a4c05320",
   "metadata": {},
   "source": [
    "### Hypothesis :\n",
    "- H0 = There is no similiarity in the aount claimed by males and females\n",
    "- h1 = There is a similiarity in the amount claimed by males and females\n",
    "- significance_level = 0.05\n",
    "- test = ttest\n",
    "### conclusion\n",
    "- As the p-value is greater than 0.05, we accept the null hypothesis. \n",
    "- So there is no similiarity in the amount claimed by males and females"
   ]
  },
  {
   "cell_type": "markdown",
   "id": "aa3e25f6",
   "metadata": {},
   "source": [
    "#####  Is there any relationship between age category and segment?"
   ]
  },
  {
   "cell_type": "code",
   "execution_count": 42,
   "id": "57ab8830",
   "metadata": {},
   "outputs": [
    {
     "data": {
      "text/plain": [
       "Chi2ContingencyResult(statistic=2.3873115449264946, pvalue=0.8808599887111777, dof=6, expected_freq=array([[178.62336114, 172.48510131, 163.89153754, 515.        ],\n",
       "       [112.37663886, 108.51489869, 103.10846246, 324.        ],\n",
       "       [291.        , 281.        , 267.        , 839.        ]]))"
      ]
     },
     "execution_count": 42,
     "metadata": {},
     "output_type": "execute_result"
    }
   ],
   "source": [
    "c = pd.crosstab(df.Age_Group, df.segment, margins = True)\n",
    "st.chi2_contingency(observed= c)"
   ]
  },
  {
   "cell_type": "markdown",
   "id": "2a124965",
   "metadata": {},
   "source": [
    "### Hypothesis:\n",
    "- H0 = There is no relationship between age group and segment\n",
    "- h1 = There is a relationship between age group and segment\n",
    "- significance_level = 0.05\n",
    "- test = chi square test\n",
    "### conclusion\n",
    "- As the p-value is greater than 0.05, we fail to reject the null hypothesis. \n",
    "- So there is no relationship between age_group and segments"
   ]
  },
  {
   "cell_type": "markdown",
   "id": "7396e9a5",
   "metadata": {},
   "source": [
    "##### The current year has shown a significant rise in claim amounts as compared to 2016-17 fiscal average which was $10,000"
   ]
  },
  {
   "cell_type": "code",
   "execution_count": 43,
   "id": "9b0c0baf",
   "metadata": {},
   "outputs": [
    {
     "data": {
      "text/plain": [
       "nan"
      ]
     },
     "execution_count": 43,
     "metadata": {},
     "output_type": "execute_result"
    }
   ],
   "source": [
    "df['year'] = pd.DatetimeIndex(df.claim_date).year\n",
    "CY = df.loc[df.year == 2018][\"claim_amount\"]\n",
    "PY = df.loc[df.year == 2017][\"claim_amount\"]\n",
    "CY.corr( PY)"
   ]
  },
  {
   "cell_type": "markdown",
   "id": "b1e3d5ba",
   "metadata": {},
   "source": [
    "#### conclusion\n",
    "- There is no correlation "
   ]
  },
  {
   "cell_type": "markdown",
   "id": "1cea87e3",
   "metadata": {},
   "source": [
    "##### Is there any difference between age groups and insurance claims?"
   ]
  },
  {
   "cell_type": "code",
   "execution_count": 45,
   "id": "27c27cf3",
   "metadata": {},
   "outputs": [
    {
     "data": {
      "text/plain": [
       "F_onewayResult(statistic=0.1697350870939065, pvalue=0.680452837744339)"
      ]
     },
     "execution_count": 45,
     "metadata": {},
     "output_type": "execute_result"
    }
   ],
   "source": [
    "a1 = df['total_policy_claims'].loc[df['Age_Group']==\"Youth\"]\n",
    "a2 = df['total_policy_claims'].loc[df['Age_Group']==\"Adult\"]\n",
    "st.f_oneway(a1,a2)"
   ]
  },
  {
   "cell_type": "markdown",
   "id": "82df59bc",
   "metadata": {},
   "source": [
    "### Hypothesis :\n",
    "- H0 = There is no difference between age groups and insurance claims\n",
    "- h1 = There is a difference between age group and insurance claims\n",
    "- test = anova\n",
    "### conclusion\n",
    "- As the p-value is greater than 0.05, we fail to reject the null hypothesis. \n",
    "- So there is no difference between age groups and insurance claims"
   ]
  },
  {
   "cell_type": "markdown",
   "id": "3889d4b2",
   "metadata": {},
   "source": [
    "##### Is there any relationship between total number of policy claims and the claimed amount?"
   ]
  },
  {
   "cell_type": "code",
   "execution_count": 46,
   "id": "9db0c513",
   "metadata": {},
   "outputs": [
    {
     "data": {
      "text/plain": [
       "-0.016908013703476745"
      ]
     },
     "execution_count": 46,
     "metadata": {},
     "output_type": "execute_result"
    }
   ],
   "source": [
    "df.total_policy_claims.corr(other= df.claim_amount)"
   ]
  },
  {
   "cell_type": "markdown",
   "id": "7d0ae81c",
   "metadata": {},
   "source": [
    "#### conclusion\n",
    "- negatively correlated between total number of policy claims and the claimed amount.\n",
    "- Thus there is no significant relationship between the variables ."
   ]
  }
 ],
 "metadata": {
  "kernelspec": {
   "display_name": "Python 3 (ipykernel)",
   "language": "python",
   "name": "python3"
  },
  "language_info": {
   "codemirror_mode": {
    "name": "ipython",
    "version": 3
   },
   "file_extension": ".py",
   "mimetype": "text/x-python",
   "name": "python",
   "nbconvert_exporter": "python",
   "pygments_lexer": "ipython3",
   "version": "3.11.4"
  }
 },
 "nbformat": 4,
 "nbformat_minor": 5
}
